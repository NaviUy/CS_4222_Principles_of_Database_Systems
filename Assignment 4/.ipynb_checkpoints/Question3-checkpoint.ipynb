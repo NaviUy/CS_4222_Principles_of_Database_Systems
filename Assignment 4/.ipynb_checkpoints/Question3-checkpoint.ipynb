{
 "cells": [
  {
   "cell_type": "code",
   "execution_count": 7,
   "metadata": {},
   "outputs": [],
   "source": [
    "#User inputs X\n",
    "X = {\"A\", \"B\", \"C\", \"D\", \"E\"}\n",
    "\n",
    "#attributes\n",
    "U = {\"A\", \"B\", \"C\", \"D\", \"E\"}\n",
    "\n",
    "#DEPENDENCIES\n",
    "F = {\"A\": \"B\", \"B\": \"CD\", \"D\": \"E\"}\n"
   ]
  },
  {
   "cell_type": "code",
   "execution_count": 8,
   "metadata": {},
   "outputs": [],
   "source": [
    "def findingClosure(key):\n",
    "    print(\"Closure for\", key, \"is:\")\n",
    "    S = set()\n",
    "    \n",
    "    if(len(key) > 1):\n",
    "        S = S.union(set(key))\n",
    "    else:\n",
    "        S.add(key)\n",
    "        \n",
    "    for keys in F:\n",
    "        if(keys in S):\n",
    "            if(len(F[keys]) > 1):\n",
    "                S = S.union(set(F[keys]))\n",
    "            else:\n",
    "                S.add(F[keys])\n",
    "    \n",
    "    done = False\n",
    "    previous = set()\n",
    "\n",
    "    for key in S:\n",
    "        if(len(key) > 1):\n",
    "            previous = previous.union(set(key))\n",
    "        else:\n",
    "            previous.add(key)\n",
    "\n",
    "    while(not done):\n",
    "        for key in F:\n",
    "            if(key in S):\n",
    "                if(len(F[key]) > 1):\n",
    "                    S = S.union(set(F[key]))\n",
    "                else:\n",
    "                    S.add(F[key])\n",
    "            if(previous == S):\n",
    "                done = True\n",
    "            else:\n",
    "                previous = S\n",
    "    if(done):\n",
    "        print(S)"
   ]
  },
  {
   "cell_type": "code",
   "execution_count": 9,
   "metadata": {},
   "outputs": [
    {
     "name": "stdout",
     "output_type": "stream",
     "text": [
      "Closure for D is:\n",
      "{'D', 'E'}\n",
      "Closure for A is:\n",
      "{'D', 'E', 'A', 'C', 'B'}\n",
      "Closure for C is:\n",
      "{'C'}\n",
      "Closure for E is:\n",
      "{'E'}\n",
      "Closure for B is:\n",
      "{'D', 'E', 'C', 'B'}\n"
     ]
    }
   ],
   "source": [
    "for key in X:\n",
    "    findingClosure(key)"
   ]
  },
  {
   "cell_type": "code",
   "execution_count": null,
   "metadata": {},
   "outputs": [],
   "source": []
  }
 ],
 "metadata": {
  "kernelspec": {
   "display_name": "Python 3",
   "language": "python",
   "name": "python3"
  },
  "language_info": {
   "codemirror_mode": {
    "name": "ipython",
    "version": 3
   },
   "file_extension": ".py",
   "mimetype": "text/x-python",
   "name": "python",
   "nbconvert_exporter": "python",
   "pygments_lexer": "ipython3",
   "version": "3.7.4"
  }
 },
 "nbformat": 4,
 "nbformat_minor": 2
}
