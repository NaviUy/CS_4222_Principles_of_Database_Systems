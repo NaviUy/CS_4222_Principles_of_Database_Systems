{
 "cells": [
  {
   "cell_type": "code",
   "execution_count": 1,
   "metadata": {},
   "outputs": [],
   "source": [
    "#User inputs X\n",
    "X = {\"A\", \"B\", \"C\", \"D\", \"E\"}\n",
    "\n",
    "#attributes\n",
    "#U = {\"A\", \"B\", \"C\", \"D\", \"E\"}\n",
    "\n",
    "#DEPENDENCIES\n",
    "#F = {\"A\": \"B\", \"B\": \"CD\", \"D\": \"E\"}\n",
    "\n",
    "U = {\"A\", \"B\", \"C\", \"D\", \"E\", \"F\", \"G\", \"H\"}\n",
    "F = {\"A\": \"BC\", \"B\": \"CFG\", \"E\": \"A\", \"F\":\"EG\", \"CH\": \"G\"}\n"
   ]
  },
  {
   "cell_type": "code",
   "execution_count": 2,
   "metadata": {},
   "outputs": [],
   "source": [
    "def findingClosure(key):\n",
    "    print(\"Closure for\", key, \"is:\")\n",
    "    S = set()\n",
    "    \n",
    "    if(len(key) > 1):\n",
    "        S = S.union(set(list(key)))\n",
    "    else:\n",
    "        S.add(key)\n",
    "        \n",
    "    for keys in F:\n",
    "        if(keys in S):\n",
    "            if(len(F[keys]) > 1):\n",
    "                S = S.union(set(list(F[keys])))\n",
    "            else:\n",
    "                S.add(F[keys])\n",
    "    \n",
    "    done = False\n",
    "    previous = set()\n",
    "\n",
    "    for key in S:\n",
    "        if(len(key) > 1):\n",
    "            previous = previous.union(set(list(key)))\n",
    "        else:\n",
    "            previous.add(key)\n",
    "\n",
    "    while(not done):\n",
    "        for key in F:\n",
    "            if(key in S):\n",
    "                if(len(F[key]) > 1):\n",
    "                    S = S.union(set(list(F[key])))\n",
    "                else:\n",
    "                    S.add(F[key])\n",
    "            if(previous == S):\n",
    "                done = True\n",
    "            else:\n",
    "                previous = S\n",
    "    if(done):\n",
    "        print(S)"
   ]
  },
  {
   "cell_type": "code",
   "execution_count": 3,
   "metadata": {},
   "outputs": [
    {
     "name": "stdout",
     "output_type": "stream",
     "text": [
      "Closure for B is:\n",
      "{'E', 'B', 'A', 'F', 'C', 'G'}\n",
      "Closure for E is:\n",
      "{'B', 'A', 'E', 'C', 'G', 'F'}\n",
      "Closure for A is:\n",
      "{'B', 'A', 'E', 'C', 'G', 'F'}\n",
      "Closure for C is:\n",
      "{'C'}\n",
      "Closure for D is:\n",
      "{'D'}\n"
     ]
    }
   ],
   "source": [
    "for key in X:\n",
    "    findingClosure(key)"
   ]
  },
  {
   "cell_type": "code",
   "execution_count": null,
   "metadata": {},
   "outputs": [],
   "source": []
  }
 ],
 "metadata": {
  "kernelspec": {
   "display_name": "Python 3",
   "language": "python",
   "name": "python3"
  },
  "language_info": {
   "codemirror_mode": {
    "name": "ipython",
    "version": 3
   },
   "file_extension": ".py",
   "mimetype": "text/x-python",
   "name": "python",
   "nbconvert_exporter": "python",
   "pygments_lexer": "ipython3",
   "version": "3.7.4"
  }
 },
 "nbformat": 4,
 "nbformat_minor": 2
}
