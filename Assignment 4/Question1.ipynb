{
 "cells": [
  {
   "cell_type": "code",
   "execution_count": 18,
   "metadata": {},
   "outputs": [],
   "source": [
    "# U = {\"A\", \"B\", \"C\", \"D\"}\n",
    "# F = {\"C\": \"A\", \"B\": \"D\"}\n",
    "\n",
    "# U = {\"A\", \"B\", \"C\", \"D\", \"E\", \"F\"}\n",
    "# F = {\"A\": \"C\", \"C\": \"D\", \"D\": \"B\", \"E\": \"F\"}\n",
    "\n",
    "# U = {\"A\", \"B\", \"C\", \"D\", \"E\", \"F\", \"G\", \"H\"}\n",
    "# F = {\"A\": \"BC\", \"B\": \"CFG\", \"E\": \"A\", \"F\":\"EG\", \"CH\": \"G\"}\n"
   ]
  },
  {
   "cell_type": "code",
   "execution_count": 19,
   "metadata": {},
   "outputs": [],
   "source": [
    "L = set()\n",
    "M = set()\n",
    "R = set()\n",
    "\n",
    "#build left\n",
    "for f in F:\n",
    "    L.add(f)\n",
    "    \n",
    "#build right   \n",
    "for l in L:\n",
    "    M.add(F[l])\n",
    "    \n",
    "#build common\n",
    "M = L.intersection(M)\n",
    "\n",
    "#split\n",
    "split = set()\n",
    "remove = set()\n",
    "for key in L:\n",
    "    #print(key)\n",
    "    if(len(key)>1):\n",
    "        #print(\"key is bigger\")\n",
    "        L = L.union(set(list(key)))\n",
    "        remove.add(key)\n",
    "        \n",
    "for key in remove:\n",
    "    L.remove(key)\n",
    "        \n",
    "#cleaning values\n",
    "L = L.difference(M)\n",
    "R = U.difference(L, M)\n",
    "\n",
    "#ALL LEFT AND ALL RIGHT\n",
    "left = set()\n",
    "for key in F:\n",
    "    if len(key) > 1:\n",
    "        tempSet = set(list(key))\n",
    "        left = left.union(tempSet)\n",
    "    else:\n",
    "        left.add(key)\n",
    "        \n",
    "right = set()\n",
    "for key in F:\n",
    "    if(len(F[key]) > 1):\n",
    "        tempSet = set(list(F[key]))\n",
    "        right = left.union(tempSet)\n",
    "    else:\n",
    "        right.add(F[key])\n",
    "        \n",
    "#print(right)\n",
    "N = U.difference(left, right)\n",
    "\n"
   ]
  },
  {
   "cell_type": "code",
   "execution_count": 20,
   "metadata": {},
   "outputs": [
    {
     "name": "stdout",
     "output_type": "stream",
     "text": [
      "Essential: {'B', 'C'} Common: set() Useless: {'A', 'D'}\n"
     ]
    }
   ],
   "source": [
    "print(\"Essential:\", L ,\"Common:\", M, \"Useless:\", R)"
   ]
  },
  {
   "cell_type": "code",
   "execution_count": 21,
   "metadata": {},
   "outputs": [],
   "source": [
    "tempSolution = set()\n",
    "\n",
    "for l in L:\n",
    "    tempSolution.add(l)\n",
    "\n",
    "# tempSolution = tempSolution.difference(right)\n",
    "\n",
    "# if(len(tempSolution) == 0):\n",
    "#     if(len(M) >= 1):\n",
    "#         tempVar = M.pop\n",
    "#         tempSolution = tempSolution.union(tempVar)\n",
    "        \n",
    "# print(tempSolution)\n",
    "    "
   ]
  },
  {
   "cell_type": "code",
   "execution_count": 22,
   "metadata": {},
   "outputs": [
    {
     "name": "stdout",
     "output_type": "stream",
     "text": [
      "CURRENT CANDIDATE KEY: {'B', 'C'}\n"
     ]
    }
   ],
   "source": [
    "candidateKey = set()\n",
    "beenIn = set()\n",
    "\n",
    "#print(\"working\")\n",
    "\n",
    "while(tempSolution != U):\n",
    "    tempSolution = tempSolution.union(N)\n",
    "    newVal = set()\n",
    "    for key in tempSolution:\n",
    "        #print(\"Key:\", key)\n",
    "        if key in F:\n",
    "            #print(\"Adding:\")\n",
    "            if(len(F[key]) > 1):\n",
    "                tempKey = set(list(F[key]))\n",
    "                beenIn = beenIn.union(tempKey)\n",
    "                newVal = newVal.union(tempKey)\n",
    "            else:\n",
    "                beenIn.add(F[key])\n",
    "                newVal.add(F[key])\n",
    "            #print(\"CURRENT BEEN IN:\", beenIn)\n",
    "            #print(\"CURRENT NEW VAL:\", newVal)\n",
    "        if key not in beenIn:\n",
    "            #print(\"Adding candidateKey\")\n",
    "            candidateKey.add(key)\n",
    "    for key in newVal:\n",
    "        if key not in tempSolution:\n",
    "            tempSolution.add(key)\n",
    "            #print(\"NEW TEMP SOLUTION:\", tempSolution)\n",
    "    print(\"CURRENT CANDIDATE KEY:\", candidateKey)"
   ]
  },
  {
   "cell_type": "code",
   "execution_count": 23,
   "metadata": {},
   "outputs": [
    {
     "data": {
      "text/plain": [
       "{'B', 'C'}"
      ]
     },
     "execution_count": 23,
     "metadata": {},
     "output_type": "execute_result"
    }
   ],
   "source": [
    "candidateKey"
   ]
  },
  {
   "cell_type": "code",
   "execution_count": null,
   "metadata": {},
   "outputs": [],
   "source": []
  }
 ],
 "metadata": {
  "kernelspec": {
   "display_name": "Python 3",
   "language": "python",
   "name": "python3"
  },
  "language_info": {
   "codemirror_mode": {
    "name": "ipython",
    "version": 3
   },
   "file_extension": ".py",
   "mimetype": "text/x-python",
   "name": "python",
   "nbconvert_exporter": "python",
   "pygments_lexer": "ipython3",
   "version": "3.7.4"
  }
 },
 "nbformat": 4,
 "nbformat_minor": 2
}
